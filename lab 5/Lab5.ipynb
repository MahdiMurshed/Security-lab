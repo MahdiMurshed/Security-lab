{
 "cells": [
  {
   "cell_type": "markdown",
   "id": "bdc5c50f-39a7-4514-aaa8-9eb15dc95ae2",
   "metadata": {},
   "source": [
    "# AES encryption-decryption"
   ]
  },
  {
   "cell_type": "code",
   "execution_count": 12,
   "id": "c80b2434-a865-4d57-b923-4440aff83ced",
   "metadata": {},
   "outputs": [],
   "source": [
    "from Crypto.Cipher import AES\n",
    "from Crypto.Random import get_random_bytes\n",
    "\n",
    "def generate_key(key_length):\n",
    "    return get_random_bytes(key_length // 8)\n",
    "\n",
    "def write_key_to_file(filename, key):\n",
    "    with open(filename, 'wb') as file:\n",
    "        file.write(key)\n",
    "\n",
    "def read_key_from_file(filename):\n",
    "    with open(filename, 'rb') as file:\n",
    "        return file.read()\n",
    "\n",
    "def pad(plaintext):\n",
    "    block_size = AES.block_size\n",
    "    padding_length = block_size - len(plaintext) % block_size\n",
    "    padding = bytes([padding_length] * padding_length)\n",
    "    return plaintext + padding\n",
    "\n",
    "def unpad(padded_text):\n",
    "    padding_length = padded_text[-1]\n",
    "    return padded_text[:-padding_length]\n",
    "\n",
    "def aes_encrypt(key, plaintext, use_cfb=False):\n",
    "    cipher = AES.new(key, AES.MODE_CFB if use_cfb else AES.MODE_ECB)\n",
    "    return cipher.encrypt(plaintext)\n",
    "\n",
    "def aes_decrypt(key, ciphertext, use_cfb=False):\n",
    "    cipher = AES.new(key, AES.MODE_CFB if use_cfb else AES.MODE_ECB)\n",
    "    return cipher.decrypt(ciphertext)"
   ]
  },
  {
   "cell_type": "code",
   "execution_count": 13,
   "id": "ab037616-80a1-446f-be4e-a28075acfc26",
   "metadata": {},
   "outputs": [],
   "source": [
    "import os\n",
    "def aes():\n",
    "    key_length = 256\n",
    "    key_filename = 'aes_key.bin'\n",
    "    plaintext_filename = 'text.txt'\n",
    "    encrypted_filename = 'encrypted.bin'\n",
    "\n",
    "    # Generate and store the key if it doesn't exist\n",
    "    if not os.path.exists(key_filename):\n",
    "        key = generate_key(key_length)\n",
    "        write_key_to_file(key_filename, key)\n",
    "    else:\n",
    "        key = read_key_from_file(key_filename)\n",
    "\n",
    "    # Read plaintext from a file\n",
    "    with open(plaintext_filename, 'rb') as file:\n",
    "        plaintext = file.read()\n",
    "\n",
    "    # Pad the plaintext to a multiple of AES block size\n",
    "    padded_plaintext = pad(plaintext)\n",
    "\n",
    "    # Encrypt the data and write to a file\n",
    "    encrypted_data = aes_encrypt(key, padded_plaintext, use_cfb=False)\n",
    "    with open(encrypted_filename, 'wb') as file:\n",
    "        file.write(encrypted_data)\n",
    "\n",
    "    # Decrypt the data\n",
    "    decrypted_data = aes_decrypt(key, encrypted_data, use_cfb=False)\n",
    "\n",
    "    # Unpad the decrypted data\n",
    "    unpadded_decrypted_data = unpad(decrypted_data)\n",
    "\n",
    "    # Display the decrypted data\n",
    "    print(\"Decrypted Data:\")\n",
    "    print(unpadded_decrypted_data.decode('utf-8'))"
   ]
  },
  {
   "cell_type": "code",
   "execution_count": 14,
   "id": "1feb945a-77e8-430e-84a9-8ca837fe7bea",
   "metadata": {},
   "outputs": [
    {
     "name": "stdout",
     "output_type": "stream",
     "text": [
      "Decrypted Data:\n",
      "﻿Our concept of time begins with the creation of the universe.\n",
      "Therefore if the laws of nature created the universe, these laws must have existed prior to time; that is the laws of nature would be outside of time.\n",
      "What we have then is totally non-physical laws, outside of time, creating a universe. Now that description might sound somewhat familiar.\n",
      "Very much like the biblical concept of God: not physical, outside of time, able to create a universe.\n"
     ]
    }
   ],
   "source": [
    "aes()"
   ]
  },
  {
   "cell_type": "markdown",
   "id": "6588d434-de1c-45ad-bae2-0ab84e2211ba",
   "metadata": {},
   "source": [
    "# RSA signature"
   ]
  },
  {
   "cell_type": "markdown",
   "id": "853ea013-e56e-4846-b6ae-63ae1fd3e419",
   "metadata": {},
   "source": [
    "### Here is the [tutorial link](https://cryptobook.nakov.com/digital-signatures/rsa-sign-verify-examples)"
   ]
  },
  {
   "cell_type": "code",
   "execution_count": 56,
   "id": "e0b3fd7b-4ab7-4a30-b007-7d3758643721",
   "metadata": {},
   "outputs": [],
   "source": [
    "from Crypto.PublicKey import RSA\n",
    "import pickle\n",
    "import os\n",
    "\n",
    "key_filename = 'rsa_key_object.bin'\n",
    "plaintext_filename = 'text.txt'\n",
    "signature_file = \"signature.bin\"\n",
    "\n",
    "if not os.path.exists(key_filename):\n",
    "    keyPair = RSA.generate(bits=1024)\n",
    "    key = {\n",
    "        \"n\": keyPair.n,\n",
    "        \"e\": keyPair.e,\n",
    "        \"d\": keyPair.d,\n",
    "    }\n",
    "    with open(key_filename, 'wb') as file:\n",
    "        pickle.dump(key, file)\n",
    "else:\n",
    "    with open(key_filename, 'rb') as file:\n",
    "        key = pickle.load(file)"
   ]
  },
  {
   "cell_type": "code",
   "execution_count": 57,
   "id": "99317cb8-7031-4779-9d1c-fde3daca553b",
   "metadata": {},
   "outputs": [],
   "source": [
    "from hashlib import sha512\n",
    "\n",
    "with open(plaintext_filename, 'rb') as file:\n",
    "    plaintext = file.read()\n",
    "hash = int.from_bytes(sha512(plaintext).digest(), byteorder='big')\n",
    "signature = pow(hash, key[\"d\"], key[\"n\"])\n",
    "\n",
    "with open(signature_file, 'wb') as file:\n",
    "    pickle.dump(signature, file)\n",
    "        "
   ]
  },
  {
   "cell_type": "code",
   "execution_count": 58,
   "id": "fc652cc0-bfc3-468d-85df-5ea9abcadc56",
   "metadata": {},
   "outputs": [
    {
     "name": "stdout",
     "output_type": "stream",
     "text": [
      "Signature valid: True\n"
     ]
    }
   ],
   "source": [
    "\n",
    "with open(plaintext_filename, 'rb') as file:\n",
    "    plaintext = file.read()\n",
    "with open(signature_file, 'rb') as file:\n",
    "    signature = pickle.load(file)\n",
    "hash = int.from_bytes(sha512(plaintext).digest(), byteorder='big')\n",
    "hashFromSignature = pow(signature, key[\"e\"], key[\"n\"])\n",
    "print(\"Signature valid:\", hash == hashFromSignature)\n",
    "    "
   ]
  },
  {
   "cell_type": "markdown",
   "id": "55c0206a-8ddb-4b27-8592-3506db2485fd",
   "metadata": {},
   "source": [
    "# RSA encryption-decryption"
   ]
  },
  {
   "cell_type": "markdown",
   "id": "324dca14-9408-4d40-957b-9a3fa82c38af",
   "metadata": {},
   "source": [
    "### Here is the [tutorial link](https://cryptobook.nakov.com/asymmetric-key-ciphers/rsa-encrypt-decrypt-examples)"
   ]
  },
  {
   "cell_type": "code",
   "execution_count": 59,
   "id": "4f676237-c80e-48c9-9aee-ac041dd863c8",
   "metadata": {},
   "outputs": [
    {
     "name": "stdout",
     "output_type": "stream",
     "text": [
      "Encrypted: b'864ce42d7830d31959b04fcd1204edfd022091353bf68767f5a7bfff93b3cabb3c920dbf0fcbd09dfc8bcd10a8f6de006203838864ebb60fc4017223aaf65c7b6d00524c7a187c02a968c5884a9262a364e9e472b468e124ae4e0bea59c44c24c07125128df8663afed2c93c1534d2f8cc6922e6905d6fc5fc56d11a8214d456'\n"
     ]
    }
   ],
   "source": [
    "from Crypto.Cipher import PKCS1_OAEP\n",
    "import binascii\n",
    "\n",
    "plaintext = b\"hello\"\n",
    "    \n",
    "encryptor = PKCS1_OAEP.new(keyPair.publickey())\n",
    "encrypted = encryptor.encrypt(plaintext)\n",
    "print(\"Encrypted:\", binascii.hexlify(encrypted))"
   ]
  },
  {
   "cell_type": "code",
   "execution_count": 60,
   "id": "b8a186c2-5579-4515-98d9-3b52fc357015",
   "metadata": {},
   "outputs": [
    {
     "name": "stdout",
     "output_type": "stream",
     "text": [
      "Decrypted: b'hello'\n"
     ]
    }
   ],
   "source": [
    "decryptor = PKCS1_OAEP.new(keyPair)\n",
    "decrypted = decryptor.decrypt(encrypted)\n",
    "print('Decrypted:', decrypted)"
   ]
  },
  {
   "cell_type": "code",
   "execution_count": null,
   "id": "09f5815a-042b-442b-adff-88a3bd16ea8f",
   "metadata": {},
   "outputs": [],
   "source": []
  }
 ],
 "metadata": {
  "kernelspec": {
   "display_name": "Python 3 (ipykernel)",
   "language": "python",
   "name": "python3"
  },
  "language_info": {
   "codemirror_mode": {
    "name": "ipython",
    "version": 3
   },
   "file_extension": ".py",
   "mimetype": "text/x-python",
   "name": "python",
   "nbconvert_exporter": "python",
   "pygments_lexer": "ipython3",
   "version": "3.10.12"
  }
 },
 "nbformat": 4,
 "nbformat_minor": 5
}
