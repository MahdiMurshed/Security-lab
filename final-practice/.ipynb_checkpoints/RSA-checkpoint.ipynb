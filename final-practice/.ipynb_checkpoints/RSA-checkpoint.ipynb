{
 "cells": [
  {
   "cell_type": "code",
   "execution_count": 2,
   "id": "7183ad1c-43e7-4985-8d0a-751e6c60a514",
   "metadata": {},
   "outputs": [],
   "source": [
    "base = ord('a')"
   ]
  },
  {
   "cell_type": "markdown",
   "id": "bd5f41d2-f9c3-4305-bf71-4c2d8a98929e",
   "metadata": {},
   "source": [
    "# 1. RSA"
   ]
  },
  {
   "cell_type": "code",
   "execution_count": 3,
   "id": "62318e31-69c8-44ad-ae5c-48e142aa6f25",
   "metadata": {},
   "outputs": [],
   "source": [
    "def textToNum(t):\n",
    "    nums = [ord(c) -  base + 1 for c in t]\n",
    "    return nums"
   ]
  },
  {
   "cell_type": "code",
   "execution_count": 4,
   "id": "823aa294-bca3-4c0a-90a9-40a9600f1189",
   "metadata": {},
   "outputs": [],
   "source": [
    "def numsToTxt(arr):\n",
    "    txt = \"\".join(chr(it + base -1) for it in arr)\n",
    "    return txt"
   ]
  },
  {
   "cell_type": "code",
   "execution_count": null,
   "id": "97eab5f7-90b4-4a2f-89c0-b35ab812fbd2",
   "metadata": {},
   "outputs": [],
   "source": [
    "def modPow(t, n, e):\n",
    "    if e == 0:\n",
    "        return 1\n",
    "    res = modPow(t, n, e//2)\n",
    "    red = (result*result)"
   ]
  },
  {
   "cell_type": "code",
   "execution_count": 6,
   "id": "68b1dab5-664b-45d9-a334-96f89f979aff",
   "metadata": {},
   "outputs": [],
   "source": [
    "n = 670726081\n",
    "e = 12345713\n",
    "plainText = \"thegranddesignbreaksthenewsbittertosomethattocreateauniversefromabsolutenothinggodisnotnecessaryallthatisneededarethelawsofnaturethatistherecanhavebeenabigbangcreationwithoutthehelpofgodprovidedthelawsofnaturepredatetheuniverseourconceptoftimebeginswiththecreationoftheuniversethereforeifthelawsofnaturecreatedtheuniversetheselawsmusthaveexistedpriortotimethatisthelawsofnaturewouldbeoutsideoftimewhatwehavethenistotallynonphysicallawsoutsideoftimecreatingauniversenowthatdescriptionmightsoundsomewhatfamiliarverymuchlikethebiblicalconceptofgodnotphysicaloutsideoftimeabletocreateuniverse\"\n",
    "\n",
    "# Step 1: Convert plain text to numerical values\n",
    "numericalValues = textToNum(plainText)"
   ]
  },
  {
   "cell_type": "code",
   "execution_count": null,
   "id": "9489bf8c-b21c-42eb-8a5c-f0c98dde82e1",
   "metadata": {},
   "outputs": [],
   "source": []
  }
 ],
 "metadata": {
  "kernelspec": {
   "display_name": "Python 3 (ipykernel)",
   "language": "python",
   "name": "python3"
  },
  "language_info": {
   "codemirror_mode": {
    "name": "ipython",
    "version": 3
   },
   "file_extension": ".py",
   "mimetype": "text/x-python",
   "name": "python",
   "nbconvert_exporter": "python",
   "pygments_lexer": "ipython3",
   "version": "3.10.12"
  }
 },
 "nbformat": 4,
 "nbformat_minor": 5
}
