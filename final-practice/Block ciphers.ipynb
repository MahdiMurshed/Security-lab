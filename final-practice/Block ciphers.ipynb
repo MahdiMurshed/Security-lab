{
 "cells": [
  {
   "cell_type": "code",
   "execution_count": 1,
   "id": "6293a68f-38cc-43ed-8104-904b31e48dc5",
   "metadata": {},
   "outputs": [],
   "source": [
    "base = ord('a')"
   ]
  },
  {
   "cell_type": "markdown",
   "id": "bbf6aaba-b808-4328-a469-1d44930f392f",
   "metadata": {},
   "source": [
    "# 1. Caesar cipher"
   ]
  },
  {
   "cell_type": "code",
   "execution_count": 2,
   "id": "6fb3c4a4-ab73-4e6a-ab0e-81c359b4b7f0",
   "metadata": {},
   "outputs": [],
   "source": [
    "def caesar(text, key):\n",
    "    cipher = \"\".join(chr((ord(c)-base - key)%26 + base) for c in text)\n",
    "    return cipher"
   ]
  },
  {
   "cell_type": "code",
   "execution_count": 3,
   "id": "c80a4ce4-5981-42d3-b2bf-6d1ce406dc17",
   "metadata": {},
   "outputs": [],
   "source": [
    "enc = \"ftqzqjfwuxxqdmbbiuxxoaynuzqoxagpymotuzqxqmdzuzsuafmzpnxaowotmuz\""
   ]
  },
  {
   "cell_type": "code",
   "execution_count": 4,
   "id": "7448f613-b12d-40fb-b62d-e41c847bf6e5",
   "metadata": {},
   "outputs": [
    {
     "name": "stdout",
     "output_type": "stream",
     "text": [
      "key 1: espypievtwwpclaahtwwnzxmtypnwzfoxlnstypwplcytyrtzelyomwznvnslty\n",
      "key 2: droxohdusvvobkzzgsvvmywlsxomvyenwkmrsxovokbxsxqsydkxnlvymumrksx\n",
      "key 3: cqnwngctruunajyyfruulxvkrwnluxdmvjlqrwnunjawrwprxcjwmkuxltlqjrw\n",
      "key 4: bpmvmfbsqttmzixxeqttkwujqvmktwcluikpqvmtmizvqvoqwbivljtwkskpiqv\n",
      "key 5: aolulearpsslyhwwdpssjvtipuljsvbkthjopulslhyupunpvahukisvjrjohpu\n",
      "key 6: znktkdzqorrkxgvvcorriushotkiruajsginotkrkgxtotmouzgtjhruiqingot\n",
      "key 7: ymjsjcypnqqjwfuubnqqhtrgnsjhqtzirfhmnsjqjfwsnslntyfsigqthphmfns\n",
      "key 8: xliribxomppivettamppgsqfmrigpsyhqeglmripievrmrkmsxerhfpsgoglemr\n",
      "key 9: wkhqhawnloohudsszloofrpelqhforxgpdfklqhohduqlqjlrwdqgeorfnfkdlq\n",
      "key 10: vjgpgzvmknngtcrryknneqodkpgenqwfocejkpgngctpkpikqvcpfdnqemejckp\n",
      "key 11: uifofyuljmmfsbqqxjmmdpncjofdmpvenbdijofmfbsojohjpuboecmpdldibjo\n",
      "key 12: thenextkillerappwillcombinecloudmachinelearningiotandblockchain\n",
      "key 13: sgdmdwsjhkkdqzoovhkkbnlahmdbkntclzbghmdkdzqmhmfhnszmcaknbjbgzhm\n",
      "key 14: rfclcvrigjjcpynnugjjamkzglcajmsbkyafglcjcyplglegmrylbzjmaiafygl\n",
      "key 15: qebkbuqhfiiboxmmtfiizljyfkbzilrajxzefkbibxokfkdflqxkayilzhzexfk\n",
      "key 16: pdajatpgehhanwllsehhykixejayhkqziwydejahawnjejcekpwjzxhkygydwej\n",
      "key 17: oczizsofdggzmvkkrdggxjhwdizxgjpyhvxcdizgzvmidibdjoviywgjxfxcvdi\n",
      "key 18: nbyhyrnecffylujjqcffwigvchywfioxguwbchyfyulhchacinuhxvfiwewbuch\n",
      "key 19: maxgxqmdbeexktiipbeevhfubgxvehnwftvabgxextkgbgzbhmtgwuehvdvatbg\n",
      "key 20: lzwfwplcaddwjshhoaddugetafwudgmvesuzafwdwsjfafyaglsfvtdgucuzsaf\n",
      "key 21: kyvevokbzccvirggnzcctfdszevtcfludrtyzevcvriezexzfkreuscftbtyrze\n",
      "key 22: jxudunjaybbuhqffmybbsecrydusbektcqsxydubuqhdydwyejqdtrbesasxqyd\n",
      "key 23: iwtctmizxaatgpeelxaardbqxctradjsbprwxctatpgcxcvxdipcsqadrzrwpxc\n",
      "key 24: hvsbslhywzzsfoddkwzzqcapwbsqzciraoqvwbszsofbwbuwchobrpzcqyqvowb\n",
      "key 25: gurarkgxvyyrenccjvyypbzovarpybhqznpuvaryrneavatvbgnaqoybpxpunva\n"
     ]
    }
   ],
   "source": [
    "for i in range(1,26):\n",
    "    print(f\"key {i}: {caesar(enc, i)}\")"
   ]
  },
  {
   "cell_type": "code",
   "execution_count": null,
   "id": "976a3cdf-5e9e-4b50-8934-1450862d7459",
   "metadata": {},
   "outputs": [],
   "source": []
  },
  {
   "cell_type": "markdown",
   "id": "d3a57b99-5152-4bbd-b7f9-fe3ee0a45aad",
   "metadata": {},
   "source": [
    "# 2. Substitution cipher with different keys"
   ]
  },
  {
   "cell_type": "code",
   "execution_count": 5,
   "id": "d5fa94fc-1971-42f1-aba3-c2f8cca8489c",
   "metadata": {},
   "outputs": [],
   "source": [
    "def calculateFrequency(text):\n",
    "    freq = {}\n",
    "    for ch in text:\n",
    "        if ch.isalpha():\n",
    "            freq[ch] = freq.get(ch, 0) + 1\n",
    "    return freq\n",
    "    "
   ]
  },
  {
   "cell_type": "code",
   "execution_count": 6,
   "id": "e1bc1a54-9627-4dfe-8a40-2cf88f91bf0f",
   "metadata": {},
   "outputs": [],
   "source": [
    "enc = \"tqmrajq ya gowopxyoap, fxog vcasqffac ycqmxtpql, tka kxg fqxyqg kqcfqms op x topiqg xcjrkxoc op scapy as ykq socq. jl pxjq of vcasqffac ycqmxtpql. lae jxl pay kxwq fqqp jq zqsacq. o sopg ykxy gqfrqpgopi yaa asyqp opya ykq kefymq xpg zefymq as ykq jxop frkaam rma gf jl oppqc qlq. pazagl fxog xplykopi ya ykof qbycxacgopxcl vcapaeprqjqpy. vcasqffac ycqmxtpql gqmorxyqml cqxccxpiqg kqc fkxtm xpg rapyopeqg, fa lae kxwq rkafqp ya fyegl gowopxyoap, ykq jafy gossoremy as xmm jxiorxm xcyf. o jefy\""
   ]
  },
  {
   "cell_type": "code",
   "execution_count": 7,
   "id": "64c5c54d-253a-480a-80c1-eb89fa1f6dfd",
   "metadata": {},
   "outputs": [
    {
     "name": "stdout",
     "output_type": "stream",
     "text": [
      "q: 47\n",
      "a: 37\n",
      "p: 35\n",
      "y: 33\n",
      "x: 31\n",
      "o: 29\n",
      "f: 25\n",
      "c: 25\n",
      "g: 20\n",
      "k: 18\n",
      "m: 16\n",
      "s: 14\n",
      "l: 14\n",
      "j: 12\n",
      "r: 11\n",
      "e: 9\n",
      "t: 7\n",
      "i: 5\n",
      "w: 4\n",
      "v: 4\n",
      "z: 3\n",
      "b: 1\n"
     ]
    }
   ],
   "source": [
    "freq = calculateFrequency(enc)\n",
    "freq =  sorted(freq.items(), key = lambda item: item[1], reverse = True)\n",
    "\n",
    "for pair in freq:\n",
    "    print(f\"{pair[0]}: {pair[1]}\")"
   ]
  },
  {
   "cell_type": "code",
   "execution_count": null,
   "id": "f09ea073-3a2f-4a50-9be1-a68bd31a8b72",
   "metadata": {},
   "outputs": [],
   "source": []
  },
  {
   "cell_type": "markdown",
   "id": "77bbb9ae-bc51-4194-94ec-52a9b0992f75",
   "metadata": {},
   "source": [
    "# 3. Vigenere cipher"
   ]
  },
  {
   "cell_type": "code",
   "execution_count": 28,
   "id": "115036a0-1c72-42ad-8c14-ca08fe44a9d2",
   "metadata": {},
   "outputs": [],
   "source": [
    "def encrypt(t, k):\n",
    "    lt = len(t)\n",
    "    lk = len(k)\n",
    "    enc = \"\"\n",
    "    for i in range(lt):\n",
    "        pc = t[i]\n",
    "        kc = k[i % lk]\n",
    "\n",
    "        enc += chr(((ord(pc)-base)+(ord(kc)-base))%26+base) if pc.isalpha() else pc\n",
    "    return enc\n",
    "        "
   ]
  },
  {
   "cell_type": "code",
   "execution_count": 31,
   "id": "e272473b-de3a-4717-82aa-fb30f787362e",
   "metadata": {},
   "outputs": [],
   "source": [
    "def decrypt(c, k):\n",
    "    lc= len(c)\n",
    "    lk = len(k)\n",
    "    pt = \"\"\n",
    "\n",
    "    for i in range(lc):\n",
    "        cc = c[i]\n",
    "        kc = k[i % lk]\n",
    "\n",
    "        ncc_b = ord(cc) - base\n",
    "        nkc_b = ord(kc) - base\n",
    "\n",
    "        pt += chr((ncc_b - nkc_b +26)%26 + base)\n",
    "    return pt"
   ]
  },
  {
   "cell_type": "code",
   "execution_count": 29,
   "id": "58fdbc4b-97e1-43eb-a461-b049334db153",
   "metadata": {},
   "outputs": [],
   "source": [
    "plaintext = \"qul zonuw arzbda ikbnrl qul gbjz, ufgaxo gv llzl, mena … ml pyxxgl t rapobezx cevf xozhihax kbaafan zlq pl kba gbpllpnyr. xys mena bp alxark tor aab yhpp bm gxgbkb. … [gotq vz,] meryx znu axil ubru t yvn uxan vorhmfbu pfgohrg aab ulem bm zlq, wklipwbq aab yhpp bm gxgbkb cyx-anax qul nkvcxofl. hre jhkpliq bm mfzl ubtpgp jpme gox zeltqvvg ls aab hubsrylb. goxormhor py qul exjz hc ahmrel vorhmbq aab hubsrylb, goxpr sttf tnpg otsr lqffaxa cyble ah qvtx; quhm ff aab yhpp bm gxgbkb jvniq ix lhalfql hc gpfb. jotq jl axil meru bp gvmxysr kbu-ielzbzns exjz, hrgzbar vy qvtx, zeltqvuz x hubsrylb. avp quhm arzvovwmfbu fftom pbbga fvfbjotq shffypto. ilkv zbve ypdb gox yviefphe zbuvbca hc tvw: kba ielzbzns, hrgzbar vy qvtx, xosx qb jkbnax  rapobezx\"\n",
    "key = \"xnht\"\n",
    "plaintext = \"\".join(c if c.isalpha() else \"\" for c in plaintext)"
   ]
  },
  {
   "cell_type": "code",
   "execution_count": 32,
   "id": "3fb26171-24aa-452b-b74a-cc4b3ce778b3",
   "metadata": {},
   "outputs": [
    {
     "data": {
      "text/plain": [
       "'thegranddesignbreaksthenewsbittertosomethattocreateauniversefromabsolutenothinggodisnotnecessaryallthatisneededarethelawsofnaturethatistherecanhavebeenabigbangcreationwithoutthehelpofgodprovidedthelawsofnaturepredatetheuniverseourconceptoftimebeginswiththecreationoftheuniversethereforeifthelawsofnaturecreatedtheuniversetheselawsmusthaveexistedpriortotimethatisthelawsofnaturewouldbeoutsideoftimewhatwehavethenistotallynonphysicallawsoutsideoftimecreatingauniversenowthatdescriptionmightsoundsomewhatfamiliarverymuchlikethebiblicalconceptofgodnotphysicaloutsideoftimeabletocreateuniverse'"
      ]
     },
     "execution_count": 32,
     "metadata": {},
     "output_type": "execute_result"
    }
   ],
   "source": [
    "decrypt(plaintext, key)"
   ]
  },
  {
   "cell_type": "code",
   "execution_count": null,
   "id": "daf9e914-c8a0-420f-98f6-074d7b26695d",
   "metadata": {},
   "outputs": [],
   "source": []
  },
  {
   "cell_type": "markdown",
   "id": "3b795a82-bf2a-4f35-9224-3bbf91eac186",
   "metadata": {},
   "source": [
    "# 4. Hill cipher"
   ]
  },
  {
   "cell_type": "code",
   "execution_count": 33,
   "id": "ff9bcb68-478d-4f1d-bb78-e6e34e09f8f9",
   "metadata": {},
   "outputs": [],
   "source": [
    "import numpy as np"
   ]
  },
  {
   "cell_type": "code",
   "execution_count": 75,
   "id": "6a9d3cf7-16de-4d0e-ba12-85bd16f35754",
   "metadata": {},
   "outputs": [],
   "source": []
  },
  {
   "cell_type": "code",
   "execution_count": 76,
   "id": "7dbb2745-369d-4a21-8dd4-4e7d33df1129",
   "metadata": {},
   "outputs": [],
   "source": [
    "def genKM(key):\n",
    "    km = np.zeros((3, 3), dtype = int)\n",
    "    ind = 0\n",
    "    for i in range(3):\n",
    "        for j in range(3):\n",
    "            km[i, j] = ord(key[ind]) - base\n",
    "            ind += 1\n",
    "    return km\n",
    "            "
   ]
  },
  {
   "cell_type": "code",
   "execution_count": 77,
   "id": "6f861116-eb19-4b58-a30a-0d7e4dc495a0",
   "metadata": {},
   "outputs": [],
   "source": [
    "key = \"GYBNQKURP\".lower()\n",
    "msg = \"act\""
   ]
  },
  {
   "cell_type": "code",
   "execution_count": 161,
   "id": "b7afd28f-b475-4944-8d41-c0dcb13c312c",
   "metadata": {},
   "outputs": [
    {
     "data": {
      "text/plain": [
       "array([[ 6, 24,  1],\n",
       "       [13, 16, 10],\n",
       "       [20, 17, 15]])"
      ]
     },
     "execution_count": 161,
     "metadata": {},
     "output_type": "execute_result"
    }
   ],
   "source": [
    "km = genKM(key)\n",
    "km"
   ]
  },
  {
   "cell_type": "code",
   "execution_count": 86,
   "id": "34172746-64ea-418c-8dd5-0d81d0a42736",
   "metadata": {},
   "outputs": [],
   "source": [
    "def genMM(msg):\n",
    "    lm = len(msg)\n",
    "    if lm %3 != 0:\n",
    "        pl = 3 - (len(msg) % 3)\n",
    "        msg += f\"{pl}\" * pl\n",
    "\n",
    "    r = 3\n",
    "    c = len(msg)//3\n",
    "    \n",
    "    ind = 0\n",
    "    mm = np.zeros((r, c), dtype = int)\n",
    "\n",
    "    for i in range(c):\n",
    "        for j in range(r):\n",
    "            mm[j, i] = ord(msg[ind]) - base\n",
    "            ind += 1\n",
    "    return mm\n",
    "            "
   ]
  },
  {
   "cell_type": "code",
   "execution_count": 91,
   "id": "70d15f5d-857b-4667-8941-51762afb208e",
   "metadata": {},
   "outputs": [],
   "source": [
    "mm = genMM(msg)"
   ]
  },
  {
   "cell_type": "code",
   "execution_count": 128,
   "id": "e1e49517-192b-4753-8b21-14d92635bb72",
   "metadata": {},
   "outputs": [],
   "source": [
    "def matMult(m, k):\n",
    "    ans = np.zeros(m.shape, dtype = int)\n",
    "\n",
    "    ans = k @ m\n",
    "\n",
    "    return ans%26\n",
    "    "
   ]
  },
  {
   "cell_type": "code",
   "execution_count": 147,
   "id": "72c056c6-a917-4e3c-ba89-848a857ad42f",
   "metadata": {},
   "outputs": [],
   "source": [
    "enc = matMult(mm, km)"
   ]
  },
  {
   "cell_type": "code",
   "execution_count": 148,
   "id": "958eccfe-f832-40dc-b027-fad14b708c15",
   "metadata": {},
   "outputs": [
    {
     "data": {
      "text/plain": [
       "[array([15]), array([14]), array([7])]"
      ]
     },
     "execution_count": 148,
     "metadata": {},
     "output_type": "execute_result"
    }
   ],
   "source": [
    "enc = list(enc)\n",
    "enc"
   ]
  },
  {
   "cell_type": "code",
   "execution_count": 149,
   "id": "11586db0-4e09-47f4-816e-5a64a0973fd0",
   "metadata": {},
   "outputs": [],
   "source": [
    "ct = \"\"\n",
    "for i in range(1):\n",
    "    for j in range(3):\n",
    "        ct += chr(enc[j][i]+ base)"
   ]
  },
  {
   "cell_type": "code",
   "execution_count": 150,
   "id": "527275ff-d98a-469a-bae1-64111a675603",
   "metadata": {},
   "outputs": [
    {
     "data": {
      "text/plain": [
       "'poh'"
      ]
     },
     "execution_count": 150,
     "metadata": {},
     "output_type": "execute_result"
    }
   ],
   "source": [
    "ct"
   ]
  },
  {
   "cell_type": "code",
   "execution_count": null,
   "id": "a989a77c-65ca-48a6-b2dc-0e3627425519",
   "metadata": {},
   "outputs": [],
   "source": []
  },
  {
   "cell_type": "code",
   "execution_count": null,
   "id": "259c2ec4-d758-4e66-acd0-1b1c56d0d0be",
   "metadata": {},
   "outputs": [],
   "source": []
  },
  {
   "cell_type": "code",
   "execution_count": null,
   "id": "61762869-7063-41e7-96c8-5bd879f4a763",
   "metadata": {},
   "outputs": [],
   "source": []
  },
  {
   "cell_type": "code",
   "execution_count": null,
   "id": "e8569e7c-b399-49bc-b843-da9cccfc478f",
   "metadata": {},
   "outputs": [],
   "source": []
  },
  {
   "cell_type": "code",
   "execution_count": null,
   "id": "da39990f-be29-40f6-8780-8f16412a3d57",
   "metadata": {},
   "outputs": [],
   "source": []
  },
  {
   "cell_type": "code",
   "execution_count": null,
   "id": "87653437-5f57-4e66-974a-329618ded35b",
   "metadata": {},
   "outputs": [],
   "source": []
  }
 ],
 "metadata": {
  "kernelspec": {
   "display_name": "Python 3 (ipykernel)",
   "language": "python",
   "name": "python3"
  },
  "language_info": {
   "codemirror_mode": {
    "name": "ipython",
    "version": 3
   },
   "file_extension": ".py",
   "mimetype": "text/x-python",
   "name": "python",
   "nbconvert_exporter": "python",
   "pygments_lexer": "ipython3",
   "version": "3.10.12"
  }
 },
 "nbformat": 4,
 "nbformat_minor": 5
}
