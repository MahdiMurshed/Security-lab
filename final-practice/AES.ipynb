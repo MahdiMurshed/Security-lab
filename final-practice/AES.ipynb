{
 "cells": [
  {
   "cell_type": "code",
   "execution_count": 1,
   "id": "838f9a61-fb1a-4e49-8f73-5314de1d4916",
   "metadata": {},
   "outputs": [],
   "source": [
    "from Crypto.Cipher import AES\n",
    "from Crypto.Random import get_random_bytes"
   ]
  },
  {
   "cell_type": "code",
   "execution_count": 2,
   "id": "ec2f0743-9e3f-4bd1-a96a-cb12a734465d",
   "metadata": {},
   "outputs": [],
   "source": [
    "def gk(kl):\n",
    "    return get_random_bytes(kl//8)"
   ]
  },
  {
   "cell_type": "code",
   "execution_count": 3,
   "id": "578f35ec-c053-4e8c-b6ff-7296789abb14",
   "metadata": {},
   "outputs": [],
   "source": [
    "def pad(t):\n",
    "    bs = AES.block_size\n",
    "    pl = bs - (len(t)%bs)\n",
    "    padding = bytes([pl]*pl)\n",
    "    return t + padding"
   ]
  },
  {
   "cell_type": "code",
   "execution_count": 4,
   "id": "ca451a16-f447-4719-bfa2-11941183b20b",
   "metadata": {},
   "outputs": [],
   "source": [
    "def unpad(t):\n",
    "    pl = t[-1]\n",
    "    return t[:-pl]"
   ]
  },
  {
   "cell_type": "code",
   "execution_count": 7,
   "id": "c6a99a8b-4b89-4420-8719-e67159b37f29",
   "metadata": {},
   "outputs": [],
   "source": [
    "def aesenc(k, t, use_cfb = False):\n",
    "    enc = AES.new(k, AES.MODE_CFB if use_cfb else AES.MODE_ECB)\n",
    "    return enc.encrypt(t)"
   ]
  },
  {
   "cell_type": "code",
   "execution_count": 8,
   "id": "f68069f2-44be-48a2-ae29-6a93283686a0",
   "metadata": {},
   "outputs": [],
   "source": [
    "def aesdec(k, t, use_cfb = False):\n",
    "    dec = AES.new(k, AES.MODE_CFB if use_cfb else AES.MODE_ECB)\n",
    "    return dec.decrypt(t)"
   ]
  },
  {
   "cell_type": "code",
   "execution_count": 10,
   "id": "119dfe6b-e372-4c4f-a2d9-d73e811d3ee6",
   "metadata": {},
   "outputs": [],
   "source": [
    "plaintext_filename = 'text.txt'\n",
    "key_l = 256"
   ]
  },
  {
   "cell_type": "code",
   "execution_count": 13,
   "id": "3f784484-6a62-4b72-adf4-530d0598169e",
   "metadata": {},
   "outputs": [],
   "source": [
    "key = gk(key_l)\n",
    "\n",
    "with open(plaintext_filename, 'rb') as file:\n",
    "    pt = file.read()\n",
    "pddt = pad(pt)\n",
    "enctd = aesenc(key, pddt)"
   ]
  },
  {
   "cell_type": "code",
   "execution_count": 15,
   "id": "556f9f71-2e33-4c48-9de3-7f36ddf48a46",
   "metadata": {},
   "outputs": [
    {
     "data": {
      "text/plain": [
       "'\\ufeffOur concept of time begins with the creation of the universe.\\nTherefore if the laws of nature created the universe, these laws must have existed prior to time; that is the laws of nature would be outside of time.\\nWhat we have then is totally non-physical laws, outside of time, creating a universe. Now that description might sound somewhat familiar.\\nVery much like the biblical concept of God: not physical, outside of time, able to create a universe.'"
      ]
     },
     "execution_count": 15,
     "metadata": {},
     "output_type": "execute_result"
    }
   ],
   "source": [
    "dctd = aesdec(key, enctd)\n",
    "dctd = unpad(dctd)\n",
    "dctd.decode('utf-8')"
   ]
  },
  {
   "cell_type": "code",
   "execution_count": null,
   "id": "b9b6d94c-cb00-43e2-9061-fd7a804d9e29",
   "metadata": {},
   "outputs": [],
   "source": []
  }
 ],
 "metadata": {
  "kernelspec": {
   "display_name": "Python 3 (ipykernel)",
   "language": "python",
   "name": "python3"
  },
  "language_info": {
   "codemirror_mode": {
    "name": "ipython",
    "version": 3
   },
   "file_extension": ".py",
   "mimetype": "text/x-python",
   "name": "python",
   "nbconvert_exporter": "python",
   "pygments_lexer": "ipython3",
   "version": "3.10.12"
  }
 },
 "nbformat": 4,
 "nbformat_minor": 5
}
